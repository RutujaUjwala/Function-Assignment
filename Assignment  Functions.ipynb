{
 "cells": [
  {
   "cell_type": "markdown",
   "id": "a0ef96b0-ef3b-4718-8aae-00aefe940e12",
   "metadata": {},
   "source": [
    "# Theory Questions:"
   ]
  },
  {
   "cell_type": "raw",
   "id": "da75bced-415c-40c9-a522-05f6871cb61a",
   "metadata": {},
   "source": [
    " 1. What is the difference between a function and a method in Python?"
   ]
  },
  {
   "cell_type": "code",
   "execution_count": 19,
   "id": "6ee64f38-c8da-490d-bd6c-d52e14a58fe1",
   "metadata": {},
   "outputs": [
    {
     "name": "stdout",
     "output_type": "stream",
     "text": [
      "1) function:This is a function\n",
      "2) method:This is a method\n"
     ]
    }
   ],
   "source": [
    "#1 ans)\n",
    "'''Function: A function is a block of reusable code that is defined independently and can be called \n",
    "anywhere in the program. It is created using the def keyword and is not tied to any particular object or class.'''\n",
    "\n",
    "def my_function():\n",
    "    print(f'1) function:This is a function')\n",
    "\n",
    "my_function()  # Calling the function\n",
    "\n",
    "\"\"\"Method: A method is a function that is associated with an object (usually part of a class). \n",
    "It is called on an object and can modify or access the object's state (its attributes). Methods are \n",
    "essentially functions that belong to objects.\"\"\"\n",
    "\n",
    "class MyClass:\n",
    "    def my_method(self):\n",
    "        print(f\"2) method:This is a method\")\n",
    "\n",
    "obj = MyClass()\n",
    "obj.my_method() # Calling the method on an object\n",
    "\n"
   ]
  },
  {
   "cell_type": "raw",
   "id": "90216da1-2b4c-4abe-b52a-6f1bb072997e",
   "metadata": {},
   "source": [
    "2.Explain the concept of function arguments and parameters in Python."
   ]
  },
  {
   "cell_type": "code",
   "execution_count": 58,
   "id": "f890508e-939c-486d-a6ac-b278fb362925",
   "metadata": {},
   "outputs": [
    {
     "name": "stdout",
     "output_type": "stream",
     "text": [
      "Hello, Alice!\n",
      "result of positional aurgument:8\n",
      "result of keyword aurgument:8\n",
      "giving default argments: Hello, Guest!\n",
      "giving default argments: Hello, Alice!\n",
      "num:1\n",
      "num:2\n",
      "num:3\n",
      "num:4\n"
     ]
    }
   ],
   "source": [
    "#2 ans\n",
    "'''1. Parameters:\n",
    "Parameters are the variables listed inside the parentheses in the function definition. They act as \n",
    "placeholders for the values that will be passed into the function when it is called.\n",
    "They define what information the function expects to receive.'''\n",
    "\n",
    "def greet(name):  # 'name' is a parameter\n",
    "    print(f\"Hello, {name}!\")\n",
    "\n",
    "\n",
    "'''2. Arguments:\n",
    "Arguments are the actual values that are passed to the function when you call it. These values are assigned \n",
    "to the function's parameters.'''\n",
    "\n",
    "greet(\"Alice\")  # \"Alice\" is an argument\n",
    "\n",
    "'''Types of Arguments:\n",
    "In Python, you can pass arguments in several ways:\n",
    "\n",
    "a)Positional arguments: These are matched with parameters based on their position.'''\n",
    "\n",
    "def add(a, b):\n",
    "    return a + b\n",
    "\n",
    "result = add(3, 5)  # 3 is assigned to 'a', 5 is assigned to 'b'\n",
    "print(f'result of positional aurgument:{result}')\n",
    "\n",
    "'''b) Keyword arguments: These are passed by explicitly specifying the parameter name, allowing you to pass arguments in any order.'''\n",
    "result = add(b=5, a=3)  # Passing arguments by keyword\n",
    "print(f'result of keyword aurgument:{result}')\n",
    "\n",
    "'''c) Default arguments: Parameters can have default values, which are used if no argument is provided.'''\n",
    "\n",
    "def greet(name='Guest'):\n",
    "    print(f\"giving default argments: Hello, {name}!\")\n",
    "\n",
    "greet()# Output: Hello, Guest!\n",
    "greet(\"Alice\")  # Output: Hello, Alice!\n",
    "\n",
    "\n",
    "'''d) Arbitrary arguments (*args and **kwargs): These allow a function to accept an arbitrary number of arguments or keyword arguments.'''\n",
    "def print_numbers(*args):\n",
    "    for num in args:\n",
    "        print(f'num:{num}')\n",
    "\n",
    "print_numbers(1, 2, 3, 4)  # Accepts any number of arguments\n",
    "\n",
    "\n"
   ]
  },
  {
   "cell_type": "raw",
   "id": "bb9ba735-0911-4c78-bacb-21195af39e37",
   "metadata": {},
   "source": [
    "3) What are the different ways to define and call a function in Python?"
   ]
  },
  {
   "cell_type": "code",
   "execution_count": 68,
   "id": "f523587b-688b-4572-9787-2b7c640d9d19",
   "metadata": {},
   "outputs": [
    {
     "name": "stdout",
     "output_type": "stream",
     "text": [
      "1) Hello, Alice!\n",
      "\n",
      "\n",
      "2) Hello, Guest!\n",
      "2) Hello, Ram!\n",
      "\n",
      "\n",
      "3) My name is Alice and I am 30 years old.\n",
      "\n",
      "\n",
      "4) num1\n",
      "4) num2\n",
      "4) num3\n",
      "4) num4\n",
      "\n",
      "\n",
      "5) name: Alice\n",
      "5) age: 30\n",
      "5) city: New York\n",
      "\n",
      "\n",
      "6) result:25\n",
      "\n",
      "\n",
      "7) func(name):Hello, Alice!\n",
      "\n",
      "\n",
      "8) factorial:120\n",
      "\n",
      "\n",
      "9) number:1\n",
      "9) number:2\n",
      "9) number:3\n",
      "9) number:4\n",
      "9) number:5\n",
      "\n",
      "\n",
      "10) text:Hello from the inner function!\n"
     ]
    }
   ],
   "source": [
    "#3) ans\n",
    "'''1. Basic Function Definition and Call\n",
    "A simple function is defined using the def keyword, followed by the function name and parameters in parentheses.'''\n",
    "\n",
    "def greet(name):\n",
    "    print(f\"1) Hello, {name}!\")\n",
    "\n",
    "# Calling the function\n",
    "greet(\"Alice\")\n",
    "print('\\n')\n",
    "\n",
    "'''2. Function with Default Arguments\n",
    "You can define default values for function parameters. If no argument is passed, the default value is used.'''\n",
    "\n",
    "def greet(name=\"Guest\"):\n",
    "    print(f\"2) Hello, {name}!\")\n",
    "\n",
    "# Calling the function with and without an argument\n",
    "greet()          # Uses the default value \"Guest\"\n",
    "greet(\"Ram\")   # Overrides the default with \"Alice\"\n",
    "print('\\n')\n",
    "\n",
    "'''3. Function with Keyword Arguments\n",
    "Functions can be called with arguments passed by name, allowing them to be passed in any order.'''\n",
    "\n",
    "def introduce(name, age):\n",
    "    print(f\"3) My name is {name} and I am {age} years old.\")\n",
    "\n",
    "# Calling the function with keyword arguments\n",
    "introduce(age=30, name=\"Alice\")\n",
    "print('\\n')\n",
    "\n",
    "'''4. Function with Arbitrary Arguments (*args)\n",
    "You can define a function that accepts a variable number of positional arguments using *args. These arguments are received as a tuple.'''\n",
    "\n",
    "\n",
    "def print_numbers(*args):\n",
    "    for num in args:\n",
    "        print(f'4) num{num}')\n",
    "\n",
    "# Calling the function with multiple arguments\n",
    "print_numbers(1, 2, 3, 4)\n",
    "print('\\n')\n",
    "\n",
    "'''5. Function with Arbitrary Keyword Arguments (**kwargs)\n",
    "You can define a function that accepts any number of keyword arguments using **kwargs. These arguments are received as a dictionary.'''\n",
    "\n",
    "\n",
    "def print_info(**kwargs):\n",
    "    for key, value in kwargs.items():\n",
    "        print(f\"5) {key}: {value}\")\n",
    "\n",
    "# Calling the function with keyword arguments\n",
    "print_info(name=\"Alice\", age=30, city=\"New York\")\n",
    "print('\\n')\n",
    "\n",
    "'''6. Lambda (Anonymous) Functions\n",
    "Lambda functions are small anonymous functions that can have any number of arguments but only one \n",
    "expression. They are often used for short operations or when passing functions as arguments.'''\n",
    "\n",
    "\n",
    "# Defining a lambda function\n",
    "square = lambda x: x * x\n",
    "\n",
    "# Calling the lambda function\n",
    "result = square(5)\n",
    "print(f'6) result:{result}')\n",
    "print('\\n')\n",
    "\n",
    "'''7. Higher-order Functions\n",
    "Functions can accept other functions as arguments or return functions, known as higher-order functions.'''\n",
    "\n",
    "\n",
    "def greet(name):\n",
    "    return f\"Hello, {name}!\"\n",
    "\n",
    "def call_function(func, name):\n",
    "    print(f'7) func(name):{func(name)}')\n",
    "\n",
    "# Passing the 'greet' function as an argument\n",
    "call_function(greet, \"Alice\")\n",
    "print('\\n')\n",
    "\n",
    "'''8. Recursive Functions\n",
    "A recursive function is a function that calls itself until it reaches a base condition. \n",
    "This is often used to solve problems like factorial or Fibonacci sequences.'''\n",
    "\n",
    "def factorial(n):\n",
    "    if n == 1:\n",
    "        return 1\n",
    "    else:\n",
    "        return n * factorial(n - 1)\n",
    "\n",
    "# Calling the recursive function\n",
    "print(f'8) factorial:{factorial(5)}')\n",
    "print('\\n')\n",
    "\n",
    "'''9. Generator Functions\n",
    "Generator functions use the yield keyword to return values one at a time, allowing iteration\n",
    "over a sequence of values without storing them all in memory.'''\n",
    "\n",
    "\n",
    "def count_up_to(max):\n",
    "    count = 1\n",
    "    while count <= max:\n",
    "        yield count\n",
    "        count += 1\n",
    "\n",
    "# Calling the generator function\n",
    "for number in count_up_to(5):\n",
    "    print(f'9) number:{number}')\n",
    "print('\\n')\n",
    "\n",
    "'''10. Nested Functions\n",
    "You can define functions inside other functions. A function defined inside another is called a nested function.'''\n",
    "\n",
    "\n",
    "def outer_function(text):\n",
    "    def inner_function():\n",
    "        print(f'10) text:{text}')\n",
    "    inner_function()\n",
    "\n",
    "# Calling the outer function\n",
    "outer_function(\"Hello from the inner function!\")\n",
    "\n",
    "\n",
    "\n"
   ]
  },
  {
   "cell_type": "raw",
   "id": "96f4adcd-bf6f-44d6-92e2-1b1f1ab1912b",
   "metadata": {},
   "source": [
    " 4. What is the purpose of the `return` statement in a Python function?"
   ]
  },
  {
   "cell_type": "code",
   "execution_count": 70,
   "id": "316f51b9-4e75-4b8c-ba54-e44b0a881407",
   "metadata": {},
   "outputs": [
    {
     "name": "stdout",
     "output_type": "stream",
     "text": [
      "8\n"
     ]
    }
   ],
   "source": [
    "#4ans)\n",
    "\"\"\"The return statement in a Python function serves several key purposes. Its primary \n",
    "role is to exit the function and provide a value back to the caller. This value can be of any data type, \n",
    "such as a number, string, list, or even another function or object. If a function does not have a return \n",
    "statement, or if the return statement is used without specifying a value, Python will return None by default.\n",
    "\n",
    "1. Returning a Value to the Caller\n",
    "The most common purpose of the return statement is to send a value from the function back to the code that called the function.\n",
    "\n",
    "2. Ending a Function's Execution\n",
    "The return statement also immediately ends the function's execution. Once Python encounters a return \n",
    "statement, it exits the function, even if there is more code after the return. This prevents any \n",
    "further code in the function from being executed.\n",
    "\n",
    "3. Returning Multiple Values\n",
    "Python allows functions to return multiple values by separating them with commas. These values \n",
    "are returned as a tuple, and can be unpacked if needed.\n",
    "\n",
    "\n",
    "4. Returning None by Default\n",
    "If a function doesn’t have a return statement, or if the return is written without a value, the function will return None by default.\n",
    "\n",
    "5. Returning Expressions\n",
    "You can use the return statement to return the result of an expression, such as mathematical \n",
    "operations, conditional logic, or function calls.\n",
    "\"\"\"\n",
    "\n",
    "def add(a, b):\n",
    "    return a + b  # The result of a + b is returned\n",
    "\n",
    "result = add(5, 3)\n",
    "print(result)\n"
   ]
  },
  {
   "cell_type": "raw",
   "id": "a911e2ff-d5a9-40db-a4d7-4e8a29fe0373",
   "metadata": {},
   "source": [
    " 5. What are iterators in Python and how do they differ from iterables?"
   ]
  },
  {
   "cell_type": "code",
   "execution_count": 90,
   "id": "2f0b21ae-b88d-46e3-8423-230229c2a327",
   "metadata": {},
   "outputs": [
    {
     "name": "stdout",
     "output_type": "stream",
     "text": [
      "item:1\n",
      "item:2\n",
      "item:3\n",
      "\n",
      "\n",
      "2) 1\n",
      "2) 2\n",
      "2) 3\n"
     ]
    }
   ],
   "source": [
    "#5)ans\n",
    "'''1. Iterables:\n",
    "An iterable is any Python object that you can loop over (iterate through) using a for loop. \n",
    "These objects contain a sequence of elements, like lists, strings, tuples, and dictionaries.\n",
    "\n",
    "Example of iterable objects:\n",
    "Lists: my_list = [1, 2, 3]\n",
    "Strings: my_string = \"hello\"\n",
    "Tuples: my_tuple = (10, 20, 30)\n",
    "The key thing about an iterable is that it has a method called __iter__() which allows you to get an iterator from it.'''\n",
    "\n",
    "my_list = [1, 2, 3]\n",
    "\n",
    "for item in my_list:  # 'my_list' is iterable\n",
    "    print(f'item:{item}')\n",
    "\n",
    "\n",
    "'''An iterable is an object that contains a sequence of data and can be looped over.\n",
    "Examples: lists, strings, dictionaries, and tuples.'''\n",
    "\n",
    "\"\"\"2. Iterators:\n",
    "An iterator is a special object that enables iteration (going through the elements one by one). \n",
    "It keeps track of where it is in the sequence, meaning it \"remembers\" the current position in the iterable.\n",
    "\n",
    "An iterator:\n",
    "\n",
    "Implements two methods: __iter__() and __next__().\n",
    "__iter__(): Returns the iterator object itself.\n",
    "__next__(): Returns the next element in the sequence. If there are no more elements, it raises a StopIteration exception.\"\"\"\n",
    "\n",
    "\n",
    "\n",
    "\"\"\"Key Differences Between Iterables and Iterators:\n",
    "Iterables are objects that can be looped over (e.g., lists, strings), but they don’t store\n",
    "their state (they don’t \"remember\" where they are during the iteration).\n",
    "\n",
    "Iterators are objects that \"remember\" their current position in the iterable. They provide \n",
    "elements one at a time using the next() method until there are no more elements to return.\"\"\"\n",
    "print('\\n')\n",
    "my_list = [1, 2, 3]\n",
    "iterator = iter(my_list)  # 'iter()' converts the list to an iterator\n",
    "\n",
    "print(f'2) {next(iterator)}')  # Output: 1\n",
    "print(f'2) {next(iterator)}')  # Output: 2\n",
    "print(f'2) {next(iterator)}')  # Output: 3\n",
    "# If you call 'next()' again, it will raise 'StopIteration'\n",
    "\n",
    "\n"
   ]
  },
  {
   "cell_type": "raw",
   "id": "5f176285-624c-4d29-a99b-98bb40b565e6",
   "metadata": {},
   "source": [
    " 6. Explain the concept of generators in Python and how they are defined."
   ]
  },
  {
   "cell_type": "code",
   "execution_count": 92,
   "id": "19abb876-63ff-42b7-8b7b-960267cf2409",
   "metadata": {},
   "outputs": [
    {
     "name": "stdout",
     "output_type": "stream",
     "text": [
      "1\n",
      "2\n",
      "3\n",
      "4\n",
      "5\n"
     ]
    }
   ],
   "source": [
    "#6ans)\n",
    "\"\"\"In Python, generators are a special type of iterable that allow you to iterate through a sequence \n",
    "of values lazily, meaning they produce items one at a time only when needed, rather than all at once. \n",
    "This makes them memory-efficient when dealing with large datasets or infinite sequences.\n",
    "\n",
    "Key Concepts of Generators:\n",
    "\n",
    "Generators produce values lazily:\n",
    "They generate values on the fly as you iterate over them, rather than storing everything in memory at once.\n",
    "\n",
    "Defined using yield:\n",
    "Unlike normal functions that return a value and terminate, generators use the yield keyword to\n",
    "return a value and pause the function, saving its state for the next time it's called.\n",
    "\n",
    "Memory efficiency:\n",
    "Since generators don’t store all values in memory, they are ideal for working with large or \n",
    "infinite datasets, like reading large files line-by-line.\n",
    "\n",
    "How Generators Work:\n",
    "A generator function looks like a normal function but contains one or more yield statements instead of return.\n",
    "When you call a generator function, it doesn't execute immediately. Instead, it returns a generator object which can be iterated over.\n",
    "Each time the generator's __next__() method is called (implicitly when used in a loop), it resumes from \n",
    "where it left off (after the last yield), returns the next value, and pauses again.\n",
    "\"\"\"\n",
    "#Defining Generators Using yield:\n",
    "\n",
    "def count_up_to(max_value):\n",
    "    count = 1\n",
    "    while count <= max_value:\n",
    "        yield count  # Pauses here and sends the value\n",
    "        count += 1   # Resumes from here on the next call\n",
    "#This function creates a generator that counts from 1 up to max_value. Notice the use of yield instead of return.\n",
    "\n",
    "#Using the Generator:\n",
    "\n",
    "counter = count_up_to(5)\n",
    "\n",
    "for num in counter:\n",
    "    print(num)"
   ]
  },
  {
   "cell_type": "raw",
   "id": "1f1ca5f7-575b-4d5a-9d4f-1fbf32c2b9e8",
   "metadata": {},
   "source": [
    " 7. What are the advantages of using generators over regular functions?"
   ]
  },
  {
   "cell_type": "code",
   "execution_count": null,
   "id": "dd3fdff4-5eee-41c6-bb48-e7de8725f210",
   "metadata": {},
   "outputs": [],
   "source": [
    "#7 ans)\n",
    "\"\"\"Generators in Python are special types of functions that let you generate values one at a time \n",
    "instead of all at once. This has some great advantages, especially when you're working with large amounts of data.\n",
    "\n",
    "1. Save Memory:\n",
    "Normal functions return all the values at once, which takes up a lot of memory, especially if the data is large.\n",
    "Generators only give you one value at a time, which means they don’t need to load everything into memory.\n",
    "For example, if you want to generate 1 million numbers, a normal function would store all 1 million numbers in\n",
    "memory. But a generator would create each number one by one, only when you need it, saving memory.\n",
    "\n",
    "2. Faster Start:\n",
    "Normal functions compute all the values before returning them, which can take a while.\n",
    "Generators start giving you values right away, even if the whole process isn't done yet.\n",
    "For example, if you only need the first 10 results from a huge dataset, a generator will give \n",
    "you those 10 values immediately without waiting to compute the entire dataset.\n",
    "\n",
    "3. Work with Infinite Data:\n",
    "Normal functions can’t handle an infinite number of items (like counting numbers forever) because they would run out of memory.\n",
    "Generators can handle infinite sequences since they produce values one at a time and don’t try to store everything.\n",
    "For example, a generator can keep counting numbers forever because it only creates the next number when needed.\n",
    "\n",
    "4. Efficient Pipelines:\n",
    "You can connect multiple generators together to process data step by step without storing everything at once. \n",
    "This is like an assembly line, where each step only works on one item at a time.\n",
    "    \n",
    "\n",
    "5. Simpler Code for Repeated Actions:\n",
    "Generators make code cleaner when you need to repeatedly produce values or work with sequences of data.\n",
    "For example, instead of creating a list of all countdown numbers from 10 to 1, you can use a generator that \n",
    "counts down one number at a time when needed.\"\"\""
   ]
  },
  {
   "cell_type": "raw",
   "id": "48fae76a-e9c7-4a92-ac61-3d2ea015816f",
   "metadata": {},
   "source": [
    " 8. What is a lambda function in Python and when is it typically used?"
   ]
  },
  {
   "cell_type": "code",
   "execution_count": 94,
   "id": "69b17f99-456c-49b3-b22b-e84e9bf2c0fa",
   "metadata": {},
   "outputs": [
    {
     "name": "stdout",
     "output_type": "stream",
     "text": [
      "7\n"
     ]
    }
   ],
   "source": [
    "#ans8)\n",
    "\n",
    "\"\"\"A lambda function in Python is a small, anonymous function (a function without a name) that is\n",
    "defined using the lambda keyword. It's often used when you need a short, simple function for a \n",
    "specific, quick task and don’t want to formally define it using the def keyword.\n",
    "\n",
    "Key Characteristics of Lambda Functions:\n",
    "Single-expression: Lambda functions can only contain a single expression, making them useful for\n",
    "simple operations. They return the result of this expression automatically.\n",
    "\n",
    "Anonymous: Lambda functions don’t have a name (unless you assign them to a variable). \n",
    "This makes them convenient for use in places where a quick, throwaway function is needed.\n",
    "\n",
    "Syntax: The syntax for lambda functions is:\n",
    "\n",
    "lambda arguments: expression\n",
    "lambda: This keyword defines the lambda function.\n",
    "arguments: These are the input parameters (like in a normal function).\n",
    "expression: This is the calculation or operation you want to perform and return.\"\"\"\n",
    "\n",
    "\n",
    "'''when is it typically used\n",
    "1)In map(), filter(), and reduce() functions\n",
    "2)In sorting with sorted()\n",
    "3)In filter()\n",
    "4)In reduce() (from the functools module)\n",
    "5)For simple callbacks'''\n",
    "\n",
    "\n",
    "# A lambda function that adds 2 numbers\n",
    "add = lambda x, y: x + y\n",
    "\n",
    "# Using the lambda function\n",
    "result = add(3, 4)\n",
    "print(result)  # Output: 7\n",
    "\n",
    "def add(x, y):\n",
    "    return x + y\n",
    "\n"
   ]
  },
  {
   "cell_type": "raw",
   "id": "d13f8768-0b6f-468b-8830-72e6717b26b7",
   "metadata": {},
   "source": [
    " 9. Explain the purpose and usage of the `map()` function in Python."
   ]
  },
  {
   "cell_type": "code",
   "execution_count": 98,
   "id": "77b35ea4-3006-43d6-b93a-e9fdb2517b94",
   "metadata": {},
   "outputs": [
    {
     "name": "stdout",
     "output_type": "stream",
     "text": [
      "[2, 4, 6, 8]\n",
      "[1, 4, 9, 16]\n",
      "[5, 7, 9]\n"
     ]
    }
   ],
   "source": [
    "#9ans)\n",
    "\"\"\"The map() function in Python is used to apply a function to each item in an iterable \n",
    "(like a list, tuple, etc.) and return a new iterable (usually a map object) containing the results. \n",
    "It allows you to transform or process each element of the iterable using a given function, without the need for explicit loops.\n",
    "\n",
    "Key Characteristics:\n",
    "Purpose: To apply a function to each item of an iterable (such as a list or tuple) and collect the results.\n",
    "Syntax:\n",
    "map(function, iterable)\n",
    "\n",
    "function: A function that you want to apply to each element.\n",
    "iterable: The collection of items (list, tuple, etc.) that you want to process.\n",
    "The map() function returns a map object, which is an iterator. To see the results as \n",
    "a list, tuple, or other collection, you typically need to convert it using list(), tuple(), etc.\n",
    "\n",
    "How It Works:\n",
    "Apply Function: It takes each item from the iterable, applies the specified function to it, and stores the result.\n",
    "Return Iterable: Instead of returning a list or tuple immediately, it returns a map object \n",
    "(which is an iterator) containing the processed values.\"\"\"\n",
    "#Example of map() Usage:\n",
    "\n",
    "# Define a simple function that doubles a number\n",
    "def double(x):\n",
    "    return x * 2\n",
    "\n",
    "# List of numbers\n",
    "numbers = [1, 2, 3, 4]\n",
    "\n",
    "# Apply 'double' function to each item in the list using map\n",
    "result = map(double, numbers)\n",
    "\n",
    "# Convert the result to a list to see the output\n",
    "print(list(result))  # output [2, 4, 6, 8]\n",
    "\n",
    "#Here, map() applies the double() function to each element in the numbers list. \n",
    "#The result is a map object, and when converted to a list, it returns [2, 4, 6, 8].\n",
    "\n",
    "'''Usage with Lambda Functions:\n",
    "A common use case of map() is with lambda functions, which allow you to define \n",
    "a small anonymous function directly in the map() call without needing to separately define a full function.'''\n",
    "\n",
    "#Example with Lambda:\n",
    "\n",
    "numbers = [1, 2, 3, 4]\n",
    "\n",
    "# Use a lambda function to square each number\n",
    "squares = map(lambda x: x ** 2, numbers)\n",
    "\n",
    "# Convert the result to a list\n",
    "print(list(squares))  # Output: [1, 4, 9, 16]\n",
    "#In this example, the lambda function lambda x: x ** 2 squares each number in the list numbers.\n",
    "\n",
    "\"\"\"Applying map() to Multiple Iterables:\n",
    "You can also use map() with multiple iterables. In this case, the function you pass to map()\n",
    "must accept as many arguments as there are iterables, and map() will apply the function by taking \n",
    "one element from each iterable at a time.\n",
    "\"\"\"\n",
    "#Example with Two Iterables:\n",
    "\n",
    "numbers1 = [1, 2, 3]\n",
    "numbers2 = [4, 5, 6]\n",
    "\n",
    "# Use map to add corresponding elements from two lists\n",
    "result = map(lambda x, y: x + y, numbers1, numbers2)\n",
    "\n",
    "print(list(result))  #output [5, 7, 9]"
   ]
  },
  {
   "cell_type": "raw",
   "id": "eeb48e1a-7ff2-48fa-9191-5d6e4764b13d",
   "metadata": {},
   "source": [
    "10. What is the difference between `map()`, `reduce()`, and `filter()` functions in Python?"
   ]
  },
  {
   "cell_type": "code",
   "execution_count": 108,
   "id": "7ea7e42d-3590-463c-8f8c-15f8beac2336",
   "metadata": {},
   "outputs": [
    {
     "name": "stdout",
     "output_type": "stream",
     "text": [
      "using map() func:[2, 4, 6, 8]\n",
      "using filter() func:[2, 4, 6]\n",
      "using reuce()func:10\n"
     ]
    }
   ],
   "source": [
    "# 10ans)\n",
    "'''1. map():\n",
    "Purpose: To apply a function to each item in an iterable and return an iterator with the results.\n",
    "Use case: When you want to transform each element of a collection.\n",
    "How it works: map() takes a function and one or more iterables. It applies the function to each \n",
    "item of the iterable(s), returning a map object containing the transformed values.'''\n",
    "\n",
    "# Define a function to double a number\n",
    "def double(x):\n",
    "    return x * 2\n",
    "\n",
    "numbers = [1, 2, 3, 4]\n",
    "# Apply the double function to each item in the list\n",
    "doubled = map(double, numbers)\n",
    "print(f'using map() func:{list(doubled)}')  # Output: [2, 4, 6, 8]\n",
    "\n",
    "'''2. filter():\n",
    "Purpose: To filter items in an iterable based on a condition and return an iterator with only the items that meet the condition.\n",
    "Use case: When you want to filter out elements based on a True/False condition.\n",
    "How it works: filter() takes a function that returns True or False and an iterable. It applies the\n",
    "function to each item and keeps only the ones where the function returns True'''\n",
    "\n",
    "\n",
    "# Define a function to check if a number is even\n",
    "def is_even(x):\n",
    "    return x % 2 == 0\n",
    "\n",
    "numbers = [1, 2, 3, 4, 5, 6]\n",
    "# Use filter to keep only even numbers\n",
    "evens = filter(is_even, numbers)\n",
    "print(f'using filter() func:{list(evens)}')  # Output: [2, 4, 6]\n",
    "\n",
    "'''3. reduce():\n",
    "Purpose: To apply a function to accumulate a single result from an iterable, combining \n",
    "elements two at a time until only one result remains.\n",
    "Use case: When you want to reduce a collection of elements into a single value (like summing all numbers, \n",
    "multiplying them, etc.).\n",
    "How it works: reduce() (from the functools module) takes a function and an iterable, and it applies \n",
    "the function cumulatively to pairs of items, reducing the iterable to a single value.'''\n",
    "\n",
    "from functools import reduce\n",
    "\n",
    "# Define a function to add two numbers\n",
    "def add(x, y):\n",
    "    return x + y\n",
    "\n",
    "numbers = [1, 2, 3, 4]\n",
    "# Use reduce to sum all numbers in the list\n",
    "total = reduce(add, numbers)\n",
    "print(f'using reuce()func:{total}')  # Output: 10\n"
   ]
  },
  {
   "cell_type": "markdown",
   "id": "6e5da798-8fec-4417-97f2-712e4abbd03e",
   "metadata": {},
   "source": [
    "#  Practical Questions:"
   ]
  },
  {
   "cell_type": "raw",
   "id": "79265194-f641-4019-8d5e-1f2d96ce51a7",
   "metadata": {},
   "source": [
    " 1. Write a Python function that takes a list of numbers as input and returns the sum of all even numbers in \n",
    "the list."
   ]
  },
  {
   "cell_type": "code",
   "execution_count": 121,
   "id": "00575293-335e-4dcb-ac03-97a72c4119c1",
   "metadata": {},
   "outputs": [
    {
     "name": "stdout",
     "output_type": "stream",
     "text": [
      "Sum of even numbers: 12\n"
     ]
    }
   ],
   "source": [
    "# ans1)\n",
    "def sum_of_even_numbers(numbers):\n",
    "    # Initialize sum variable to 0\n",
    "    total = 0\n",
    "    \n",
    "    # Iterate through the list\n",
    "    for num in numbers:\n",
    "        # Check if the number is even\n",
    "        if num % 2 == 0:\n",
    "            total += num  # Add the even number to the total\n",
    "    \n",
    "    return total  # Return the sum of all even numbers\n",
    "\n",
    "# Example usage:\n",
    "numbers = [1, 2, 3, 4, 5, 6]\n",
    "result = sum_of_even_numbers(numbers)\n",
    "print(\"Sum of even numbers:\", result)  # Output: Sum of even numbers: 12\n"
   ]
  },
  {
   "cell_type": "raw",
   "id": "7f114a3e-402e-41a4-9a28-45e0169839d2",
   "metadata": {},
   "source": [
    " 2. Create a Python function that accepts a string and returns the reverse of that string."
   ]
  },
  {
   "cell_type": "code",
   "execution_count": 123,
   "id": "2f8dbd0f-3e4a-4f53-9ff2-1e76a7686627",
   "metadata": {},
   "outputs": [
    {
     "name": "stdout",
     "output_type": "stream",
     "text": [
      "Reversed string: olleh\n"
     ]
    }
   ],
   "source": [
    "#2ans)\n",
    "def reverse_string(s):\n",
    "    # Return the reversed string\n",
    "    return s[::-1]\n",
    "\n",
    "# Example usage:\n",
    "input_string = \"hello\"\n",
    "result = reverse_string(input_string)\n",
    "print(\"Reversed string:\", result)  # Output: Reversed string: olleh\n"
   ]
  },
  {
   "cell_type": "raw",
   "id": "e87cf1d3-de3c-4248-812d-0fb87a094c34",
   "metadata": {},
   "source": [
    " 3. Implement a Python function that takes a list of integers and returns a new list containing the squares of \n",
    "each number."
   ]
  },
  {
   "cell_type": "code",
   "execution_count": 125,
   "id": "52014844-ddc4-4345-907a-b9277c865106",
   "metadata": {},
   "outputs": [
    {
     "name": "stdout",
     "output_type": "stream",
     "text": [
      "Squared numbers: [1, 4, 9, 16, 25]\n"
     ]
    }
   ],
   "source": [
    "#3ans)\n",
    "def square_numbers(numbers):\n",
    "    # Use list comprehension to square each number in the list\n",
    "    return [num ** 2 for num in numbers]\n",
    "\n",
    "# Example usage:\n",
    "input_list = [1, 2, 3, 4, 5]\n",
    "result = square_numbers(input_list)\n",
    "print(\"Squared numbers:\", result)  # Output: Squared numbers: [1, 4, 9, 16, 25]\n"
   ]
  },
  {
   "cell_type": "raw",
   "id": "40a78fba-ebec-445f-b7aa-f3d55ecb7e1f",
   "metadata": {},
   "source": [
    " 4. Write a Python function that checks if a given number is prime or not from 1 to 200."
   ]
  },
  {
   "cell_type": "code",
   "execution_count": 127,
   "id": "79e36beb-3277-490d-834e-1995b46b3035",
   "metadata": {},
   "outputs": [
    {
     "name": "stdout",
     "output_type": "stream",
     "text": [
      "2 is a prime number\n",
      "3 is a prime number\n",
      "5 is a prime number\n",
      "7 is a prime number\n",
      "11 is a prime number\n",
      "13 is a prime number\n",
      "17 is a prime number\n",
      "19 is a prime number\n",
      "23 is a prime number\n",
      "29 is a prime number\n",
      "31 is a prime number\n",
      "37 is a prime number\n",
      "41 is a prime number\n",
      "43 is a prime number\n",
      "47 is a prime number\n",
      "53 is a prime number\n",
      "59 is a prime number\n",
      "61 is a prime number\n",
      "67 is a prime number\n",
      "71 is a prime number\n",
      "73 is a prime number\n",
      "79 is a prime number\n",
      "83 is a prime number\n",
      "89 is a prime number\n",
      "97 is a prime number\n",
      "101 is a prime number\n",
      "103 is a prime number\n",
      "107 is a prime number\n",
      "109 is a prime number\n",
      "113 is a prime number\n",
      "127 is a prime number\n",
      "131 is a prime number\n",
      "137 is a prime number\n",
      "139 is a prime number\n",
      "149 is a prime number\n",
      "151 is a prime number\n",
      "157 is a prime number\n",
      "163 is a prime number\n",
      "167 is a prime number\n",
      "173 is a prime number\n",
      "179 is a prime number\n",
      "181 is a prime number\n",
      "191 is a prime number\n",
      "193 is a prime number\n",
      "197 is a prime number\n",
      "199 is a prime number\n"
     ]
    }
   ],
   "source": [
    "#4 ans)\n",
    "def is_prime(n):\n",
    "    # Prime numbers are greater than 1\n",
    "    if n <= 1:\n",
    "        return False\n",
    "    # Check divisibility from 2 to the square root of the number\n",
    "    for i in range(2, int(n ** 0.5) + 1):\n",
    "        if n % i == 0:\n",
    "            return False\n",
    "    return True\n",
    "\n",
    "# Example usage:\n",
    "for num in range(1, 201):\n",
    "    if is_prime(num):\n",
    "        print(f\"{num} is a prime number\")\n"
   ]
  },
  {
   "cell_type": "raw",
   "id": "5ec41d43-5aa4-4dc7-b45e-d3cbcd16add7",
   "metadata": {},
   "source": [
    " 5. Create an iterator class in Python that generates the Fibonacci sequence up to a specified number of \n",
    "terms."
   ]
  },
  {
   "cell_type": "code",
   "execution_count": 129,
   "id": "dee8e7fa-be57-4afb-bdf8-830e64dd2dd1",
   "metadata": {},
   "outputs": [
    {
     "name": "stdout",
     "output_type": "stream",
     "text": [
      "[0, 1, 1, 2, 3, 5, 8, 13, 21, 34]\n"
     ]
    }
   ],
   "source": [
    "#5 ans)\n",
    "def fibonacci_sequence(num_terms):\n",
    "    # Initialize the first two numbers in the Fibonacci sequence\n",
    "    a, b = 0, 1\n",
    "    result = []  # List to store the Fibonacci numbers\n",
    "    \n",
    "    # Generate Fibonacci numbers\n",
    "    for _ in range(num_terms):\n",
    "        result.append(a)  # Add the current number to the result list\n",
    "        a, b = b, a + b   # Update a and b for the next Fibonacci number\n",
    "    \n",
    "    return result  # Return the list of Fibonacci numbers\n",
    "\n",
    "# Example usage:\n",
    "num_terms = 10  # Specify the number of Fibonacci numbers to generate\n",
    "fib_numbers = fibonacci_sequence(num_terms)\n",
    "print(fib_numbers)  # Output: [0, 1, 1, \n",
    "\n"
   ]
  },
  {
   "cell_type": "raw",
   "id": "3bee8204-289c-4ba4-822a-12e6aef4d1af",
   "metadata": {},
   "source": [
    "6. Write a generator function in Python that yields the powers of 2 up to a given exponent."
   ]
  },
  {
   "cell_type": "code",
   "execution_count": 137,
   "id": "f793ddd0-1603-4386-b668-05e538e77fa0",
   "metadata": {},
   "outputs": [
    {
     "name": "stdout",
     "output_type": "stream",
     "text": [
      "1\n",
      "3\n",
      "9\n",
      "27\n",
      "81\n",
      "243\n"
     ]
    }
   ],
   "source": [
    "#6ans)\n",
    "def powers_of_two(max_exponent):\n",
    "    # Start from exponent 0 up to max_exponent\n",
    "    for exponent in range(max_exponent + 1):\n",
    "        yield 3 ** exponent  # Yield the power of 2 for each exponent\n",
    "\n",
    "# Example usage:\n",
    "for power in powers_of_two(5):  # Generate powers of 2 up to 2^5\n",
    "    print(power)\n"
   ]
  },
  {
   "cell_type": "raw",
   "id": "22ead413-6a3a-448d-87b6-ed5982c0996b",
   "metadata": {},
   "source": [
    " 7. Implement a generator function that reads a file line by line and yields each line as a string.\n"
   ]
  },
  {
   "cell_type": "code",
   "execution_count": 141,
   "id": "c856d51d-4472-40fe-b3ad-5c5883cc18ed",
   "metadata": {},
   "outputs": [
    {
     "name": "stdout",
     "output_type": "stream",
     "text": [
      "\n",
      "example 1\n",
      "example 2\n",
      "example 3\n",
      "example 4\n"
     ]
    }
   ],
   "source": [
    "#7ans)\n",
    "def read_file_line(file_path):\n",
    "    # Open the file in read mode\n",
    "    with open(file_path, 'r') as file:\n",
    "        # Loop over each line in the file\n",
    "        for line in file:\n",
    "            yield line.strip()  # Yield the line without any extra newline characters\n",
    "\n",
    "# Example usage:\n",
    "for line in read_file_line('example.txt'):\n",
    "    print(line)\n"
   ]
  },
  {
   "cell_type": "raw",
   "id": "dc20e45c-b5e0-447b-a821-e78500551bf3",
   "metadata": {},
   "source": [
    " 8. Use a lambda function in Python to sort a list of tuples based on the second element of each tuple.\n"
   ]
  },
  {
   "cell_type": "code",
   "execution_count": 143,
   "id": "7b961b2a-2977-4073-9345-c07e4163293c",
   "metadata": {},
   "outputs": [
    {
     "name": "stdout",
     "output_type": "stream",
     "text": [
      "[(4, 1), (5, 2), (1, 3), (2, 4)]\n"
     ]
    }
   ],
   "source": [
    "# 8 ans)\n",
    "# List of tuples\n",
    "tuples_list = [(1, 3), (4, 1), (5, 2), (2, 4)]\n",
    "\n",
    "# Sort the list based on the second element of each tuple using a lambda function\n",
    "sorted_list = sorted(tuples_list, key=lambda x: x[1])\n",
    "\n",
    "# Print the sorted list\n",
    "print(sorted_list)\n"
   ]
  },
  {
   "cell_type": "code",
   "execution_count": null,
   "id": "07af7cb8-ca6f-4945-a3c7-8c7d81f36bc7",
   "metadata": {},
   "outputs": [],
   "source": [
    " 9. Write a Python program that uses `map()` to convert a list of temperatures from Celsius to Fahrenheit.\n"
   ]
  },
  {
   "cell_type": "code",
   "execution_count": 145,
   "id": "5e837dc7-8a8a-4fb2-b857-c10c43f8ac2e",
   "metadata": {},
   "outputs": [
    {
     "name": "stdout",
     "output_type": "stream",
     "text": [
      "Celsius: [0, 20, 37, 100]\n",
      "Fahrenheit: [32.0, 68.0, 98.6, 212.0]\n"
     ]
    }
   ],
   "source": [
    "#9 ans)\n",
    "# Function to convert Celsius to Fahrenheit\n",
    "def celsius_to_fahrenheit(celsius):\n",
    "    return (celsius * 9/5) + 32\n",
    "\n",
    "# List of temperatures in Celsius\n",
    "celsius_temperatures = [0, 20, 37, 100]\n",
    "\n",
    "# Use map() to convert the Celsius temperatures to Fahrenheit\n",
    "fahrenheit_temperatures = list(map(celsius_to_fahrenheit, celsius_temperatures))\n",
    "\n",
    "# Print the results\n",
    "print(\"Celsius:\", celsius_temperatures)\n",
    "print(\"Fahrenheit:\", fahrenheit_temperatures)\n"
   ]
  },
  {
   "cell_type": "raw",
   "id": "e8d8c229-06ff-41b9-b857-3363281528eb",
   "metadata": {},
   "source": [
    " 10. Create a Python program that uses `filter()` to remove all the vowels from a given string\n"
   ]
  },
  {
   "cell_type": "code",
   "execution_count": 147,
   "id": "2528e1ff-53d0-4a62-94b9-b5521458999a",
   "metadata": {},
   "outputs": [
    {
     "name": "stdout",
     "output_type": "stream",
     "text": [
      "Original string: Hello, World! This is a test string.\n",
      "String without vowels: Hll, Wrld! Ths s  tst strng.\n"
     ]
    }
   ],
   "source": [
    "# 10 ans)\n",
    "# Function to check if a character is a vowel\n",
    "def is_not_vowel(char):\n",
    "    return char.lower() not in 'aeiou'\n",
    "\n",
    "# Given string\n",
    "input_string = \"Hello, World! This is a test string.\"\n",
    "\n",
    "# Use filter() to remove vowels from the string\n",
    "filtered_string = ''.join(filter(is_not_vowel, input_string))\n",
    "\n",
    "# Print the result\n",
    "print(\"Original string:\", input_string)\n",
    "print(\"String without vowels:\", filtered_string)\n"
   ]
  },
  {
   "cell_type": "raw",
   "id": "28ed509b-d862-42fe-a5f5-6f60eb6515cd",
   "metadata": {},
   "source": [
    "11) Imagine an accounting routine used in a book shop. It works on a list with sublists, which look like this:\n",
    "\n",
    "order no  book title             author      quantity   price per item\n",
    "34587,   \"Learning Python,       Mark Lutz\",    4,     40.95\n",
    "98762,   \"Programming Python,    Mark Lutz\",    5,     56.80\n",
    "77226,   \"Head First Python,     Paul Barry\",   3,     32.95\n",
    "88112,   \"Einführung in Python3,  Bernd Klein\", 3,     24.99\n",
    " \n",
    "Write a Python program, which returns a list with 2-tuples. Each tuple consists of the order number and the \n",
    "product of the price per item and the quantity. The product should be increased by 10,- € if the value of the \n",
    "order is smaller than 100,00 €.\n",
    " Write a Python program using lambda and map"
   ]
  },
  {
   "cell_type": "code",
   "execution_count": 150,
   "id": "1b1bda28-6872-4a64-ac6f-6241f136c57f",
   "metadata": {},
   "outputs": [
    {
     "name": "stdout",
     "output_type": "stream",
     "text": [
      "[(34587, 163.8), (98762, 284.0), (77226, 108.85000000000001), (88112, 84.97)]\n"
     ]
    }
   ],
   "source": [
    "# 11 ans)\n",
    "# List of book orders\n",
    "orders = [\n",
    "    (34587, \"Learning Python, Mark Lutz\", 4, 40.95),\n",
    "    (98762, \"Programming Python, Mark Lutz\", 5, 56.80),\n",
    "    (77226, \"Head First Python, Paul Barry\", 3, 32.95),\n",
    "    (88112, \"Einführung in Python3, Bernd Klein\", 3, 24.99)\n",
    "]\n",
    "\n",
    "# Lambda function to compute the total and adjust if less than 100\n",
    "result = list(map(lambda order: (order[0], order[2] * order[3] if order[2] * order[3] >= 100 else order[2] * order[3] + 10), orders))\n",
    "\n",
    "# Output the result\n",
    "print(result)\n"
   ]
  },
  {
   "cell_type": "code",
   "execution_count": null,
   "id": "2e8abd24-5212-4062-a20d-5f750250960d",
   "metadata": {},
   "outputs": [],
   "source": []
  }
 ],
 "metadata": {
  "kernelspec": {
   "display_name": "Python 3 (ipykernel)",
   "language": "python",
   "name": "python3"
  },
  "language_info": {
   "codemirror_mode": {
    "name": "ipython",
    "version": 3
   },
   "file_extension": ".py",
   "mimetype": "text/x-python",
   "name": "python",
   "nbconvert_exporter": "python",
   "pygments_lexer": "ipython3",
   "version": "3.12.4"
  }
 },
 "nbformat": 4,
 "nbformat_minor": 5
}
